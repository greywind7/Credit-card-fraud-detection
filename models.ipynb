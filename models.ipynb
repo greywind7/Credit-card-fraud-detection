{
 "cells": [
  {
   "cell_type": "code",
   "execution_count": 404,
   "id": "92c387bc-6928-479d-9875-788640981a88",
   "metadata": {},
   "outputs": [],
   "source": [
    "# Data derived from\n",
    "# https://www.kaggle.com/datasets/mlg-ulb/creditcardfraud\n",
    "import numpy as np\n",
    "import pandas as pd\n",
    "import matplotlib.pyplot as plt"
   ]
  },
  {
   "cell_type": "code",
   "execution_count": 405,
   "id": "7dd28d3e-5f69-4177-a1bc-92d38809f09b",
   "metadata": {},
   "outputs": [
    {
     "data": {
      "text/html": [
       "<div>\n",
       "<style scoped>\n",
       "    .dataframe tbody tr th:only-of-type {\n",
       "        vertical-align: middle;\n",
       "    }\n",
       "\n",
       "    .dataframe tbody tr th {\n",
       "        vertical-align: top;\n",
       "    }\n",
       "\n",
       "    .dataframe thead th {\n",
       "        text-align: right;\n",
       "    }\n",
       "</style>\n",
       "<table border=\"1\" class=\"dataframe\">\n",
       "  <thead>\n",
       "    <tr style=\"text-align: right;\">\n",
       "      <th></th>\n",
       "      <th>Time</th>\n",
       "      <th>V1</th>\n",
       "      <th>V2</th>\n",
       "      <th>V3</th>\n",
       "      <th>V4</th>\n",
       "      <th>V5</th>\n",
       "      <th>V6</th>\n",
       "      <th>V7</th>\n",
       "      <th>V8</th>\n",
       "      <th>V9</th>\n",
       "      <th>...</th>\n",
       "      <th>V21</th>\n",
       "      <th>V22</th>\n",
       "      <th>V23</th>\n",
       "      <th>V24</th>\n",
       "      <th>V25</th>\n",
       "      <th>V26</th>\n",
       "      <th>V27</th>\n",
       "      <th>V28</th>\n",
       "      <th>Amount</th>\n",
       "      <th>Class</th>\n",
       "    </tr>\n",
       "  </thead>\n",
       "  <tbody>\n",
       "    <tr>\n",
       "      <th>0</th>\n",
       "      <td>0.0</td>\n",
       "      <td>-1.359807</td>\n",
       "      <td>-0.072781</td>\n",
       "      <td>2.536347</td>\n",
       "      <td>1.378155</td>\n",
       "      <td>-0.338321</td>\n",
       "      <td>0.462388</td>\n",
       "      <td>0.239599</td>\n",
       "      <td>0.098698</td>\n",
       "      <td>0.363787</td>\n",
       "      <td>...</td>\n",
       "      <td>-0.018307</td>\n",
       "      <td>0.277838</td>\n",
       "      <td>-0.110474</td>\n",
       "      <td>0.066928</td>\n",
       "      <td>0.128539</td>\n",
       "      <td>-0.189115</td>\n",
       "      <td>0.133558</td>\n",
       "      <td>-0.021053</td>\n",
       "      <td>149.62</td>\n",
       "      <td>0</td>\n",
       "    </tr>\n",
       "    <tr>\n",
       "      <th>1</th>\n",
       "      <td>0.0</td>\n",
       "      <td>1.191857</td>\n",
       "      <td>0.266151</td>\n",
       "      <td>0.166480</td>\n",
       "      <td>0.448154</td>\n",
       "      <td>0.060018</td>\n",
       "      <td>-0.082361</td>\n",
       "      <td>-0.078803</td>\n",
       "      <td>0.085102</td>\n",
       "      <td>-0.255425</td>\n",
       "      <td>...</td>\n",
       "      <td>-0.225775</td>\n",
       "      <td>-0.638672</td>\n",
       "      <td>0.101288</td>\n",
       "      <td>-0.339846</td>\n",
       "      <td>0.167170</td>\n",
       "      <td>0.125895</td>\n",
       "      <td>-0.008983</td>\n",
       "      <td>0.014724</td>\n",
       "      <td>2.69</td>\n",
       "      <td>0</td>\n",
       "    </tr>\n",
       "    <tr>\n",
       "      <th>2</th>\n",
       "      <td>1.0</td>\n",
       "      <td>-1.358354</td>\n",
       "      <td>-1.340163</td>\n",
       "      <td>1.773209</td>\n",
       "      <td>0.379780</td>\n",
       "      <td>-0.503198</td>\n",
       "      <td>1.800499</td>\n",
       "      <td>0.791461</td>\n",
       "      <td>0.247676</td>\n",
       "      <td>-1.514654</td>\n",
       "      <td>...</td>\n",
       "      <td>0.247998</td>\n",
       "      <td>0.771679</td>\n",
       "      <td>0.909412</td>\n",
       "      <td>-0.689281</td>\n",
       "      <td>-0.327642</td>\n",
       "      <td>-0.139097</td>\n",
       "      <td>-0.055353</td>\n",
       "      <td>-0.059752</td>\n",
       "      <td>378.66</td>\n",
       "      <td>0</td>\n",
       "    </tr>\n",
       "    <tr>\n",
       "      <th>3</th>\n",
       "      <td>1.0</td>\n",
       "      <td>-0.966272</td>\n",
       "      <td>-0.185226</td>\n",
       "      <td>1.792993</td>\n",
       "      <td>-0.863291</td>\n",
       "      <td>-0.010309</td>\n",
       "      <td>1.247203</td>\n",
       "      <td>0.237609</td>\n",
       "      <td>0.377436</td>\n",
       "      <td>-1.387024</td>\n",
       "      <td>...</td>\n",
       "      <td>-0.108300</td>\n",
       "      <td>0.005274</td>\n",
       "      <td>-0.190321</td>\n",
       "      <td>-1.175575</td>\n",
       "      <td>0.647376</td>\n",
       "      <td>-0.221929</td>\n",
       "      <td>0.062723</td>\n",
       "      <td>0.061458</td>\n",
       "      <td>123.50</td>\n",
       "      <td>0</td>\n",
       "    </tr>\n",
       "    <tr>\n",
       "      <th>4</th>\n",
       "      <td>2.0</td>\n",
       "      <td>-1.158233</td>\n",
       "      <td>0.877737</td>\n",
       "      <td>1.548718</td>\n",
       "      <td>0.403034</td>\n",
       "      <td>-0.407193</td>\n",
       "      <td>0.095921</td>\n",
       "      <td>0.592941</td>\n",
       "      <td>-0.270533</td>\n",
       "      <td>0.817739</td>\n",
       "      <td>...</td>\n",
       "      <td>-0.009431</td>\n",
       "      <td>0.798278</td>\n",
       "      <td>-0.137458</td>\n",
       "      <td>0.141267</td>\n",
       "      <td>-0.206010</td>\n",
       "      <td>0.502292</td>\n",
       "      <td>0.219422</td>\n",
       "      <td>0.215153</td>\n",
       "      <td>69.99</td>\n",
       "      <td>0</td>\n",
       "    </tr>\n",
       "  </tbody>\n",
       "</table>\n",
       "<p>5 rows × 31 columns</p>\n",
       "</div>"
      ],
      "text/plain": [
       "   Time        V1        V2        V3        V4        V5        V6        V7  \\\n",
       "0   0.0 -1.359807 -0.072781  2.536347  1.378155 -0.338321  0.462388  0.239599   \n",
       "1   0.0  1.191857  0.266151  0.166480  0.448154  0.060018 -0.082361 -0.078803   \n",
       "2   1.0 -1.358354 -1.340163  1.773209  0.379780 -0.503198  1.800499  0.791461   \n",
       "3   1.0 -0.966272 -0.185226  1.792993 -0.863291 -0.010309  1.247203  0.237609   \n",
       "4   2.0 -1.158233  0.877737  1.548718  0.403034 -0.407193  0.095921  0.592941   \n",
       "\n",
       "         V8        V9  ...       V21       V22       V23       V24       V25  \\\n",
       "0  0.098698  0.363787  ... -0.018307  0.277838 -0.110474  0.066928  0.128539   \n",
       "1  0.085102 -0.255425  ... -0.225775 -0.638672  0.101288 -0.339846  0.167170   \n",
       "2  0.247676 -1.514654  ...  0.247998  0.771679  0.909412 -0.689281 -0.327642   \n",
       "3  0.377436 -1.387024  ... -0.108300  0.005274 -0.190321 -1.175575  0.647376   \n",
       "4 -0.270533  0.817739  ... -0.009431  0.798278 -0.137458  0.141267 -0.206010   \n",
       "\n",
       "        V26       V27       V28  Amount  Class  \n",
       "0 -0.189115  0.133558 -0.021053  149.62      0  \n",
       "1  0.125895 -0.008983  0.014724    2.69      0  \n",
       "2 -0.139097 -0.055353 -0.059752  378.66      0  \n",
       "3 -0.221929  0.062723  0.061458  123.50      0  \n",
       "4  0.502292  0.219422  0.215153   69.99      0  \n",
       "\n",
       "[5 rows x 31 columns]"
      ]
     },
     "execution_count": 405,
     "metadata": {},
     "output_type": "execute_result"
    }
   ],
   "source": [
    "# Loading dataset\n",
    "df = pd.read_csv('creditcard.csv')\n",
    "df.head()"
   ]
  },
  {
   "cell_type": "code",
   "execution_count": 406,
   "id": "7813466a-fb6e-45b1-afc9-4fc58c0ac24b",
   "metadata": {},
   "outputs": [
    {
     "data": {
      "text/plain": [
       "Time      0\n",
       "V1        0\n",
       "V2        0\n",
       "V3        0\n",
       "V4        0\n",
       "V5        0\n",
       "V6        0\n",
       "V7        0\n",
       "V8        0\n",
       "V9        0\n",
       "V10       0\n",
       "V11       0\n",
       "V12       0\n",
       "V13       0\n",
       "V14       0\n",
       "V15       0\n",
       "V16       0\n",
       "V17       0\n",
       "V18       0\n",
       "V19       0\n",
       "V20       0\n",
       "V21       0\n",
       "V22       0\n",
       "V23       0\n",
       "V24       0\n",
       "V25       0\n",
       "V26       0\n",
       "V27       0\n",
       "V28       0\n",
       "Amount    0\n",
       "Class     0\n",
       "dtype: int64"
      ]
     },
     "execution_count": 406,
     "metadata": {},
     "output_type": "execute_result"
    }
   ],
   "source": [
    "# The details of the features are hidden by the bank, likely to preserve the user's privacy\n",
    "# Now we check the \n",
    "df.isnull().sum()"
   ]
  },
  {
   "cell_type": "code",
   "execution_count": 407,
   "id": "5cab3999-86ce-472f-9cd6-214e2ea9cf85",
   "metadata": {},
   "outputs": [
    {
     "data": {
      "text/html": [
       "<div>\n",
       "<style scoped>\n",
       "    .dataframe tbody tr th:only-of-type {\n",
       "        vertical-align: middle;\n",
       "    }\n",
       "\n",
       "    .dataframe tbody tr th {\n",
       "        vertical-align: top;\n",
       "    }\n",
       "\n",
       "    .dataframe thead th {\n",
       "        text-align: right;\n",
       "    }\n",
       "</style>\n",
       "<table border=\"1\" class=\"dataframe\">\n",
       "  <thead>\n",
       "    <tr style=\"text-align: right;\">\n",
       "      <th></th>\n",
       "      <th>count</th>\n",
       "      <th>mean</th>\n",
       "      <th>std</th>\n",
       "      <th>min</th>\n",
       "      <th>25%</th>\n",
       "      <th>50%</th>\n",
       "      <th>75%</th>\n",
       "      <th>max</th>\n",
       "    </tr>\n",
       "  </thead>\n",
       "  <tbody>\n",
       "    <tr>\n",
       "      <th>V1</th>\n",
       "      <td>284807.0</td>\n",
       "      <td>1.168375e-15</td>\n",
       "      <td>1.958696</td>\n",
       "      <td>-56.407510</td>\n",
       "      <td>-0.920373</td>\n",
       "      <td>0.018109</td>\n",
       "      <td>1.315642</td>\n",
       "      <td>2.454930</td>\n",
       "    </tr>\n",
       "    <tr>\n",
       "      <th>V2</th>\n",
       "      <td>284807.0</td>\n",
       "      <td>3.416908e-16</td>\n",
       "      <td>1.651309</td>\n",
       "      <td>-72.715728</td>\n",
       "      <td>-0.598550</td>\n",
       "      <td>0.065486</td>\n",
       "      <td>0.803724</td>\n",
       "      <td>22.057729</td>\n",
       "    </tr>\n",
       "    <tr>\n",
       "      <th>V3</th>\n",
       "      <td>284807.0</td>\n",
       "      <td>-1.379537e-15</td>\n",
       "      <td>1.516255</td>\n",
       "      <td>-48.325589</td>\n",
       "      <td>-0.890365</td>\n",
       "      <td>0.179846</td>\n",
       "      <td>1.027196</td>\n",
       "      <td>9.382558</td>\n",
       "    </tr>\n",
       "    <tr>\n",
       "      <th>V4</th>\n",
       "      <td>284807.0</td>\n",
       "      <td>2.074095e-15</td>\n",
       "      <td>1.415869</td>\n",
       "      <td>-5.683171</td>\n",
       "      <td>-0.848640</td>\n",
       "      <td>-0.019847</td>\n",
       "      <td>0.743341</td>\n",
       "      <td>16.875344</td>\n",
       "    </tr>\n",
       "    <tr>\n",
       "      <th>V5</th>\n",
       "      <td>284807.0</td>\n",
       "      <td>9.604066e-16</td>\n",
       "      <td>1.380247</td>\n",
       "      <td>-113.743307</td>\n",
       "      <td>-0.691597</td>\n",
       "      <td>-0.054336</td>\n",
       "      <td>0.611926</td>\n",
       "      <td>34.801666</td>\n",
       "    </tr>\n",
       "    <tr>\n",
       "      <th>V6</th>\n",
       "      <td>284807.0</td>\n",
       "      <td>1.487313e-15</td>\n",
       "      <td>1.332271</td>\n",
       "      <td>-26.160506</td>\n",
       "      <td>-0.768296</td>\n",
       "      <td>-0.274187</td>\n",
       "      <td>0.398565</td>\n",
       "      <td>73.301626</td>\n",
       "    </tr>\n",
       "    <tr>\n",
       "      <th>V7</th>\n",
       "      <td>284807.0</td>\n",
       "      <td>-5.556467e-16</td>\n",
       "      <td>1.237094</td>\n",
       "      <td>-43.557242</td>\n",
       "      <td>-0.554076</td>\n",
       "      <td>0.040103</td>\n",
       "      <td>0.570436</td>\n",
       "      <td>120.589494</td>\n",
       "    </tr>\n",
       "    <tr>\n",
       "      <th>V8</th>\n",
       "      <td>284807.0</td>\n",
       "      <td>1.213481e-16</td>\n",
       "      <td>1.194353</td>\n",
       "      <td>-73.216718</td>\n",
       "      <td>-0.208630</td>\n",
       "      <td>0.022358</td>\n",
       "      <td>0.327346</td>\n",
       "      <td>20.007208</td>\n",
       "    </tr>\n",
       "    <tr>\n",
       "      <th>V9</th>\n",
       "      <td>284807.0</td>\n",
       "      <td>-2.406331e-15</td>\n",
       "      <td>1.098632</td>\n",
       "      <td>-13.434066</td>\n",
       "      <td>-0.643098</td>\n",
       "      <td>-0.051429</td>\n",
       "      <td>0.597139</td>\n",
       "      <td>15.594995</td>\n",
       "    </tr>\n",
       "    <tr>\n",
       "      <th>V10</th>\n",
       "      <td>284807.0</td>\n",
       "      <td>2.239053e-15</td>\n",
       "      <td>1.088850</td>\n",
       "      <td>-24.588262</td>\n",
       "      <td>-0.535426</td>\n",
       "      <td>-0.092917</td>\n",
       "      <td>0.453923</td>\n",
       "      <td>23.745136</td>\n",
       "    </tr>\n",
       "    <tr>\n",
       "      <th>V11</th>\n",
       "      <td>284807.0</td>\n",
       "      <td>1.673327e-15</td>\n",
       "      <td>1.020713</td>\n",
       "      <td>-4.797473</td>\n",
       "      <td>-0.762494</td>\n",
       "      <td>-0.032757</td>\n",
       "      <td>0.739593</td>\n",
       "      <td>12.018913</td>\n",
       "    </tr>\n",
       "    <tr>\n",
       "      <th>V12</th>\n",
       "      <td>284807.0</td>\n",
       "      <td>-1.247012e-15</td>\n",
       "      <td>0.999201</td>\n",
       "      <td>-18.683715</td>\n",
       "      <td>-0.405571</td>\n",
       "      <td>0.140033</td>\n",
       "      <td>0.618238</td>\n",
       "      <td>7.848392</td>\n",
       "    </tr>\n",
       "    <tr>\n",
       "      <th>V13</th>\n",
       "      <td>284807.0</td>\n",
       "      <td>8.190001e-16</td>\n",
       "      <td>0.995274</td>\n",
       "      <td>-5.791881</td>\n",
       "      <td>-0.648539</td>\n",
       "      <td>-0.013568</td>\n",
       "      <td>0.662505</td>\n",
       "      <td>7.126883</td>\n",
       "    </tr>\n",
       "    <tr>\n",
       "      <th>V14</th>\n",
       "      <td>284807.0</td>\n",
       "      <td>1.207294e-15</td>\n",
       "      <td>0.958596</td>\n",
       "      <td>-19.214325</td>\n",
       "      <td>-0.425574</td>\n",
       "      <td>0.050601</td>\n",
       "      <td>0.493150</td>\n",
       "      <td>10.526766</td>\n",
       "    </tr>\n",
       "    <tr>\n",
       "      <th>V15</th>\n",
       "      <td>284807.0</td>\n",
       "      <td>4.887456e-15</td>\n",
       "      <td>0.915316</td>\n",
       "      <td>-4.498945</td>\n",
       "      <td>-0.582884</td>\n",
       "      <td>0.048072</td>\n",
       "      <td>0.648821</td>\n",
       "      <td>8.877742</td>\n",
       "    </tr>\n",
       "    <tr>\n",
       "      <th>V16</th>\n",
       "      <td>284807.0</td>\n",
       "      <td>1.437716e-15</td>\n",
       "      <td>0.876253</td>\n",
       "      <td>-14.129855</td>\n",
       "      <td>-0.468037</td>\n",
       "      <td>0.066413</td>\n",
       "      <td>0.523296</td>\n",
       "      <td>17.315112</td>\n",
       "    </tr>\n",
       "    <tr>\n",
       "      <th>V17</th>\n",
       "      <td>284807.0</td>\n",
       "      <td>-3.772171e-16</td>\n",
       "      <td>0.849337</td>\n",
       "      <td>-25.162799</td>\n",
       "      <td>-0.483748</td>\n",
       "      <td>-0.065676</td>\n",
       "      <td>0.399675</td>\n",
       "      <td>9.253526</td>\n",
       "    </tr>\n",
       "    <tr>\n",
       "      <th>V18</th>\n",
       "      <td>284807.0</td>\n",
       "      <td>9.564149e-16</td>\n",
       "      <td>0.838176</td>\n",
       "      <td>-9.498746</td>\n",
       "      <td>-0.498850</td>\n",
       "      <td>-0.003636</td>\n",
       "      <td>0.500807</td>\n",
       "      <td>5.041069</td>\n",
       "    </tr>\n",
       "    <tr>\n",
       "      <th>V19</th>\n",
       "      <td>284807.0</td>\n",
       "      <td>1.039917e-15</td>\n",
       "      <td>0.814041</td>\n",
       "      <td>-7.213527</td>\n",
       "      <td>-0.456299</td>\n",
       "      <td>0.003735</td>\n",
       "      <td>0.458949</td>\n",
       "      <td>5.591971</td>\n",
       "    </tr>\n",
       "    <tr>\n",
       "      <th>V20</th>\n",
       "      <td>284807.0</td>\n",
       "      <td>6.406204e-16</td>\n",
       "      <td>0.770925</td>\n",
       "      <td>-54.497720</td>\n",
       "      <td>-0.211721</td>\n",
       "      <td>-0.062481</td>\n",
       "      <td>0.133041</td>\n",
       "      <td>39.420904</td>\n",
       "    </tr>\n",
       "    <tr>\n",
       "      <th>V21</th>\n",
       "      <td>284807.0</td>\n",
       "      <td>1.654067e-16</td>\n",
       "      <td>0.734524</td>\n",
       "      <td>-34.830382</td>\n",
       "      <td>-0.228395</td>\n",
       "      <td>-0.029450</td>\n",
       "      <td>0.186377</td>\n",
       "      <td>27.202839</td>\n",
       "    </tr>\n",
       "    <tr>\n",
       "      <th>V22</th>\n",
       "      <td>284807.0</td>\n",
       "      <td>-3.568593e-16</td>\n",
       "      <td>0.725702</td>\n",
       "      <td>-10.933144</td>\n",
       "      <td>-0.542350</td>\n",
       "      <td>0.006782</td>\n",
       "      <td>0.528554</td>\n",
       "      <td>10.503090</td>\n",
       "    </tr>\n",
       "    <tr>\n",
       "      <th>V23</th>\n",
       "      <td>284807.0</td>\n",
       "      <td>2.578648e-16</td>\n",
       "      <td>0.624460</td>\n",
       "      <td>-44.807735</td>\n",
       "      <td>-0.161846</td>\n",
       "      <td>-0.011193</td>\n",
       "      <td>0.147642</td>\n",
       "      <td>22.528412</td>\n",
       "    </tr>\n",
       "    <tr>\n",
       "      <th>V24</th>\n",
       "      <td>284807.0</td>\n",
       "      <td>4.473266e-15</td>\n",
       "      <td>0.605647</td>\n",
       "      <td>-2.836627</td>\n",
       "      <td>-0.354586</td>\n",
       "      <td>0.040976</td>\n",
       "      <td>0.439527</td>\n",
       "      <td>4.584549</td>\n",
       "    </tr>\n",
       "    <tr>\n",
       "      <th>V25</th>\n",
       "      <td>284807.0</td>\n",
       "      <td>5.340915e-16</td>\n",
       "      <td>0.521278</td>\n",
       "      <td>-10.295397</td>\n",
       "      <td>-0.317145</td>\n",
       "      <td>0.016594</td>\n",
       "      <td>0.350716</td>\n",
       "      <td>7.519589</td>\n",
       "    </tr>\n",
       "    <tr>\n",
       "      <th>V26</th>\n",
       "      <td>284807.0</td>\n",
       "      <td>1.683437e-15</td>\n",
       "      <td>0.482227</td>\n",
       "      <td>-2.604551</td>\n",
       "      <td>-0.326984</td>\n",
       "      <td>-0.052139</td>\n",
       "      <td>0.240952</td>\n",
       "      <td>3.517346</td>\n",
       "    </tr>\n",
       "    <tr>\n",
       "      <th>V27</th>\n",
       "      <td>284807.0</td>\n",
       "      <td>-3.660091e-16</td>\n",
       "      <td>0.403632</td>\n",
       "      <td>-22.565679</td>\n",
       "      <td>-0.070840</td>\n",
       "      <td>0.001342</td>\n",
       "      <td>0.091045</td>\n",
       "      <td>31.612198</td>\n",
       "    </tr>\n",
       "    <tr>\n",
       "      <th>V28</th>\n",
       "      <td>284807.0</td>\n",
       "      <td>-1.227390e-16</td>\n",
       "      <td>0.330083</td>\n",
       "      <td>-15.430084</td>\n",
       "      <td>-0.052960</td>\n",
       "      <td>0.011244</td>\n",
       "      <td>0.078280</td>\n",
       "      <td>33.847808</td>\n",
       "    </tr>\n",
       "    <tr>\n",
       "      <th>Amount</th>\n",
       "      <td>284807.0</td>\n",
       "      <td>8.834962e+01</td>\n",
       "      <td>250.120109</td>\n",
       "      <td>0.000000</td>\n",
       "      <td>5.600000</td>\n",
       "      <td>22.000000</td>\n",
       "      <td>77.165000</td>\n",
       "      <td>25691.160000</td>\n",
       "    </tr>\n",
       "    <tr>\n",
       "      <th>Class</th>\n",
       "      <td>284807.0</td>\n",
       "      <td>1.727486e-03</td>\n",
       "      <td>0.041527</td>\n",
       "      <td>0.000000</td>\n",
       "      <td>0.000000</td>\n",
       "      <td>0.000000</td>\n",
       "      <td>0.000000</td>\n",
       "      <td>1.000000</td>\n",
       "    </tr>\n",
       "  </tbody>\n",
       "</table>\n",
       "</div>"
      ],
      "text/plain": [
       "           count          mean         std         min       25%        50%  \\\n",
       "V1      284807.0  1.168375e-15    1.958696  -56.407510 -0.920373   0.018109   \n",
       "V2      284807.0  3.416908e-16    1.651309  -72.715728 -0.598550   0.065486   \n",
       "V3      284807.0 -1.379537e-15    1.516255  -48.325589 -0.890365   0.179846   \n",
       "V4      284807.0  2.074095e-15    1.415869   -5.683171 -0.848640  -0.019847   \n",
       "V5      284807.0  9.604066e-16    1.380247 -113.743307 -0.691597  -0.054336   \n",
       "V6      284807.0  1.487313e-15    1.332271  -26.160506 -0.768296  -0.274187   \n",
       "V7      284807.0 -5.556467e-16    1.237094  -43.557242 -0.554076   0.040103   \n",
       "V8      284807.0  1.213481e-16    1.194353  -73.216718 -0.208630   0.022358   \n",
       "V9      284807.0 -2.406331e-15    1.098632  -13.434066 -0.643098  -0.051429   \n",
       "V10     284807.0  2.239053e-15    1.088850  -24.588262 -0.535426  -0.092917   \n",
       "V11     284807.0  1.673327e-15    1.020713   -4.797473 -0.762494  -0.032757   \n",
       "V12     284807.0 -1.247012e-15    0.999201  -18.683715 -0.405571   0.140033   \n",
       "V13     284807.0  8.190001e-16    0.995274   -5.791881 -0.648539  -0.013568   \n",
       "V14     284807.0  1.207294e-15    0.958596  -19.214325 -0.425574   0.050601   \n",
       "V15     284807.0  4.887456e-15    0.915316   -4.498945 -0.582884   0.048072   \n",
       "V16     284807.0  1.437716e-15    0.876253  -14.129855 -0.468037   0.066413   \n",
       "V17     284807.0 -3.772171e-16    0.849337  -25.162799 -0.483748  -0.065676   \n",
       "V18     284807.0  9.564149e-16    0.838176   -9.498746 -0.498850  -0.003636   \n",
       "V19     284807.0  1.039917e-15    0.814041   -7.213527 -0.456299   0.003735   \n",
       "V20     284807.0  6.406204e-16    0.770925  -54.497720 -0.211721  -0.062481   \n",
       "V21     284807.0  1.654067e-16    0.734524  -34.830382 -0.228395  -0.029450   \n",
       "V22     284807.0 -3.568593e-16    0.725702  -10.933144 -0.542350   0.006782   \n",
       "V23     284807.0  2.578648e-16    0.624460  -44.807735 -0.161846  -0.011193   \n",
       "V24     284807.0  4.473266e-15    0.605647   -2.836627 -0.354586   0.040976   \n",
       "V25     284807.0  5.340915e-16    0.521278  -10.295397 -0.317145   0.016594   \n",
       "V26     284807.0  1.683437e-15    0.482227   -2.604551 -0.326984  -0.052139   \n",
       "V27     284807.0 -3.660091e-16    0.403632  -22.565679 -0.070840   0.001342   \n",
       "V28     284807.0 -1.227390e-16    0.330083  -15.430084 -0.052960   0.011244   \n",
       "Amount  284807.0  8.834962e+01  250.120109    0.000000  5.600000  22.000000   \n",
       "Class   284807.0  1.727486e-03    0.041527    0.000000  0.000000   0.000000   \n",
       "\n",
       "              75%           max  \n",
       "V1       1.315642      2.454930  \n",
       "V2       0.803724     22.057729  \n",
       "V3       1.027196      9.382558  \n",
       "V4       0.743341     16.875344  \n",
       "V5       0.611926     34.801666  \n",
       "V6       0.398565     73.301626  \n",
       "V7       0.570436    120.589494  \n",
       "V8       0.327346     20.007208  \n",
       "V9       0.597139     15.594995  \n",
       "V10      0.453923     23.745136  \n",
       "V11      0.739593     12.018913  \n",
       "V12      0.618238      7.848392  \n",
       "V13      0.662505      7.126883  \n",
       "V14      0.493150     10.526766  \n",
       "V15      0.648821      8.877742  \n",
       "V16      0.523296     17.315112  \n",
       "V17      0.399675      9.253526  \n",
       "V18      0.500807      5.041069  \n",
       "V19      0.458949      5.591971  \n",
       "V20      0.133041     39.420904  \n",
       "V21      0.186377     27.202839  \n",
       "V22      0.528554     10.503090  \n",
       "V23      0.147642     22.528412  \n",
       "V24      0.439527      4.584549  \n",
       "V25      0.350716      7.519589  \n",
       "V26      0.240952      3.517346  \n",
       "V27      0.091045     31.612198  \n",
       "V28      0.078280     33.847808  \n",
       "Amount  77.165000  25691.160000  \n",
       "Class    0.000000      1.000000  "
      ]
     },
     "execution_count": 407,
     "metadata": {},
     "output_type": "execute_result"
    }
   ],
   "source": [
    "# There are no null values in the dataset\n",
    "# Time seems an irrelevant feature in this dataset, so we drop it\n",
    "df = df.drop('Time', axis = 1)\n",
    "df.describe().T"
   ]
  },
  {
   "cell_type": "code",
   "execution_count": 408,
   "id": "6bd11f40-896a-4f5d-91b6-1374566a1cfd",
   "metadata": {},
   "outputs": [
    {
     "data": {
      "text/plain": [
       "492.00010520200004"
      ]
     },
     "execution_count": 408,
     "metadata": {},
     "output_type": "execute_result"
    }
   ],
   "source": [
    "# The target class has a very low mean when it should be close to 0.5\n",
    "1.727486e-03 * df.shape[0]"
   ]
  },
  {
   "cell_type": "code",
   "execution_count": 409,
   "id": "8b5ddd26-5f25-41f5-b234-804154d2d0ec",
   "metadata": {},
   "outputs": [
    {
     "data": {
      "text/plain": [
       "0.1727485630620034"
      ]
     },
     "execution_count": 409,
     "metadata": {},
     "output_type": "execute_result"
    }
   ],
   "source": [
    "# Only 492 values are fradulent\n",
    "492 / 284807 * 100"
   ]
  },
  {
   "cell_type": "code",
   "execution_count": 410,
   "id": "aa5ca679-e5bc-431f-a587-b747a263b3f7",
   "metadata": {
    "tags": []
   },
   "outputs": [],
   "source": [
    "X = df.iloc[:,:-1].values\n",
    "Y = df.iloc[:,-1].values"
   ]
  },
  {
   "cell_type": "code",
   "execution_count": 411,
   "id": "9365bd31-2125-49ea-847c-67372db700c3",
   "metadata": {},
   "outputs": [],
   "source": [
    "# This shows that only 0.17% of the target value are fraud cases\n",
    "# ML algorithms work best when target values are roughly the same\n",
    "# To solve this we use oversampling using ADASYN, which adds a little variance to the points created by SMOTE\n",
    "from sklearn.model_selection import train_test_split\n",
    "(xo_train,xo_test, yo_train,yo_test) = train_test_split(X,Y,test_size = 0.3, random_state = 0)\n",
    "# Scaling features\n",
    "from sklearn.preprocessing import StandardScaler\n",
    "sc = StandardScaler()\n",
    "xo_train = sc.fit_transform(xo_train)\n",
    "xo_test = sc.transform(xo_test)"
   ]
  },
  {
   "cell_type": "code",
   "execution_count": 412,
   "id": "77a8cfb8-bc45-4a16-a315-accf460b6464",
   "metadata": {},
   "outputs": [
    {
     "name": "stdout",
     "output_type": "stream",
     "text": [
      "Original data sha, (199364, 29)\n",
      "Resampled data shape, (398002, 29)\n"
     ]
    }
   ],
   "source": [
    "from imblearn.over_sampling import ADASYN\n",
    "print('Original data sha,', xo_train.shape)\n",
    "ada = ADASYN()\n",
    "X_r, Y_r = ada.fit_resample(xo_train,yo_train)\n",
    "print('Resampled data shape,', X_r.shape)"
   ]
  },
  {
   "cell_type": "code",
   "execution_count": 413,
   "id": "748a94f3-dd6b-484a-9a54-b2fe43fd0d33",
   "metadata": {},
   "outputs": [
    {
     "name": "stdout",
     "output_type": "stream",
     "text": [
      "198983\n"
     ]
    },
    {
     "data": {
      "text/plain": [
       "0.4999547740966126"
      ]
     },
     "execution_count": 413,
     "metadata": {},
     "output_type": "execute_result"
    }
   ],
   "source": [
    "# Total fraud cases in the oversampled class and its percentage\n",
    "print(np.sum(Y_r))\n",
    "np.sum(Y_r)/len(Y_r)"
   ]
  },
  {
   "cell_type": "code",
   "execution_count": 414,
   "id": "bf42141f-0977-449e-9293-5be28fc91904",
   "metadata": {
    "tags": []
   },
   "outputs": [],
   "source": [
    "# The percentage of fradulent and non-fradulent cases in the dataset is now almost equal\n",
    "(x_train,x_test, y_train,y_test) = train_test_split(X_r,Y_r,test_size = 0.05, random_state = 0)"
   ]
  },
  {
   "cell_type": "code",
   "execution_count": 415,
   "id": "97e7f178-6f1e-4561-892c-b7cc144acbb1",
   "metadata": {},
   "outputs": [
    {
     "data": {
      "text/plain": [
       "RandomForestClassifier()"
      ]
     },
     "execution_count": 415,
     "metadata": {},
     "output_type": "execute_result"
    }
   ],
   "source": [
    "# Using random forest classifier to train the model\n",
    "from sklearn.ensemble import RandomForestClassifier\n",
    "rf = RandomForestClassifier()\n",
    "rf.fit(x_train,y_train)"
   ]
  },
  {
   "cell_type": "code",
   "execution_count": 512,
   "id": "901b840a-957c-476d-9be0-01f37bc2ad3a",
   "metadata": {},
   "outputs": [],
   "source": [
    "# Our target metric to maximize is recall because false negatives are much more dangerous than false positives in our case\n",
    "def cf_mat(y_true,y_pred,lb):\n",
    "    y_pred = (y_pred >= 0.5) * 1\n",
    "    from sklearn.metrics import confusion_matrix, accuracy_score, recall_score\n",
    "    import seaborn as snf\n",
    "    labels = ['not fraud','fraud']\n",
    "    plt.figure(figsize=(8,8))\n",
    "    snf.heatmap(confusion_matrix(y_true,y_pred), square = True, annot=True,fmt='d',xticklabels=labels,yticklabels=labels)\n",
    "    plt.ylabel(\"True value\")\n",
    "    plt.xlabel(\"Predicted value\")\n",
    "    plt.title(lb)\n",
    "    plt.show()\n",
    "    print(\"Accuracy of the model on\",lb,\"is: \",\"{:.2f}\".format(accuracy_score(y_true, y_pred) * 100),'%')\n",
    "    print(\"Recall of the model on\",lb,\"is: \",\"{:.2f}\".format(recall_score(y_true, y_pred) * 100),'%')"
   ]
  },
  {
   "cell_type": "code",
   "execution_count": 513,
   "id": "94d28e4a-1665-489d-b61b-8b4a935597da",
   "metadata": {},
   "outputs": [
    {
     "data": {
      "image/png": "[encoded data removed]",
      "text/plain": [
       "<Figure size 576x576 with 2 Axes>"
      ]
     },
     "metadata": {
      "needs_background": "light"
     },
     "output_type": "display_data"
    },
    {
     "name": "stdout",
     "output_type": "stream",
     "text": [
      "Accuracy of the model on Resampled Test set is:  99.99 %\n",
      "Recall of the model on Resampled Test set is:  100.00 %\n"
     ]
    }
   ],
   "source": [
    "y_p_test = rf.predict((x_test))\n",
    "cf_mat(y_test,y_p_test,\"Resampled Test set\")"
   ]
  },
  {
   "cell_type": "code",
   "execution_count": 514,
   "id": "63b3ce71-531f-4804-96b8-542514011f4a",
   "metadata": {},
   "outputs": [
    {
     "data": {
      "image/png": "[encoded data removed]",
      "text/plain": [
       "<Figure size 576x576 with 2 Axes>"
      ]
     },
     "metadata": {
      "needs_background": "light"
     },
     "output_type": "display_data"
    },
    {
     "name": "stdout",
     "output_type": "stream",
     "text": [
      "Accuracy of the model on Resampled Dataset is:  100.00 %\n",
      "Recall of the model on Resampled Dataset is:  100.00 %\n"
     ]
    }
   ],
   "source": [
    "y_r_p = rf.predict((X_r))\n",
    "cf_mat(Y_r,y_r_p,\"Resampled Dataset\")"
   ]
  },
  {
   "cell_type": "code",
   "execution_count": 515,
   "id": "0b538a66-75c8-481b-89fc-aaa7ceec3343",
   "metadata": {},
   "outputs": [
    {
     "data": {
      "image/png": "[encoded data removed]",
      "text/plain": [
       "<Figure size 576x576 with 2 Axes>"
      ]
     },
     "metadata": {
      "needs_background": "light"
     },
     "output_type": "display_data"
    },
    {
     "name": "stdout",
     "output_type": "stream",
     "text": [
      "Accuracy of the model on Original dataset is:  99.98 %\n",
      "Recall of the model on Original dataset is:  94.11 %\n"
     ]
    }
   ],
   "source": [
    "y_da = rf.predict(sc.transform(X))\n",
    "cf_mat(Y,y_da,\"Original dataset\")"
   ]
  },
  {
   "cell_type": "code",
   "execution_count": 516,
   "id": "5efee256-68bd-4129-81b1-6f6152728f6e",
   "metadata": {},
   "outputs": [
    {
     "data": {
      "image/png": "[encoded data removed]",
      "text/plain": [
       "<Figure size 576x576 with 2 Axes>"
      ]
     },
     "metadata": {
      "needs_background": "light"
     },
     "output_type": "display_data"
    },
    {
     "name": "stdout",
     "output_type": "stream",
     "text": [
      "Accuracy of the model on Original test set is:  99.95 %\n",
      "Recall of the model on Original test set is:  80.27 %\n"
     ]
    }
   ],
   "source": [
    "y_p_xo = rf.predict(xo_test)\n",
    "cf_mat(yo_test,y_p_xo,\"Original test set\")"
   ]
  },
  {
   "cell_type": "code",
   "execution_count": 593,
   "id": "b4e15b14-8e3d-4722-96a2-1d0d98f4d40a",
   "metadata": {},
   "outputs": [
    {
     "name": "stdout",
     "output_type": "stream",
     "text": [
      "Epoch 1/5\n",
      "93/93 [==============================] - 2s 13ms/step - loss: 0.4086 - binary_accuracy: 0.7975\n",
      "Epoch 2/5\n",
      "93/93 [==============================] - 1s 13ms/step - loss: 0.1249 - binary_accuracy: 0.9615\n",
      "Epoch 3/5\n",
      "93/93 [==============================] - 1s 13ms/step - loss: 0.0509 - binary_accuracy: 0.9877\n",
      "Epoch 4/5\n",
      "93/93 [==============================] - 1s 13ms/step - loss: 0.0274 - binary_accuracy: 0.9942\n",
      "Epoch 5/5\n",
      "93/93 [==============================] - 1s 13ms/step - loss: 0.0175 - binary_accuracy: 0.9967\n"
     ]
    },
    {
     "data": {
      "text/plain": [
       "<keras.callbacks.History at 0x7f7a84b0c400>"
      ]
     },
     "execution_count": 593,
     "metadata": {},
     "output_type": "execute_result"
    }
   ],
   "source": [
    "import tensorflow as tf\n",
    "from tensorflow.keras import initializers\n",
    "from tensorflow.keras import optimizers\n",
    "from tensorflow.keras import regularizers\n",
    "model = tf.keras.Sequential([\n",
    "    tf.keras.layers.Dense(100, input_shape=(29,), activation='relu'),\n",
    "    tf.keras.layers.Dropout(0.4),\n",
    "    tf.keras.layers.Dense(75, activation='relu'),\n",
    "    tf.keras.layers.Dropout(0.4),\n",
    "    tf.keras.layers.Dense(75, activation='relu'),\n",
    "    tf.keras.layers.Dropout(0.4),\n",
    "    tf.keras.layers.Dense(50, activation='relu'),\n",
    "    tf.keras.layers.Dropout(0.5),\n",
    "    tf.keras.layers.Dense(25, activation='relu'),\n",
    "    tf.keras.layers.Dropout(0.25),\n",
    "    tf.keras.layers.Dense(1, activation='sigmoid'),\n",
    "])\n",
    " \n",
    "# Compiling the model\n",
    "model.compile(optimizer=optimizers.Adam(0.001),\n",
    "              loss=tf.keras.losses.binary_crossentropy,\n",
    "              metrics=[tf.keras.metrics.binary_accuracy])\n",
    " \n",
    "# fitting the model\n",
    "model.fit(x_train, y_train, epochs=5, batch_size=4096)"
   ]
  },
  {
   "cell_type": "code",
   "execution_count": 594,
   "id": "e04c7e08-5bb8-46df-abf4-65fad7582bd3",
   "metadata": {},
   "outputs": [
    {
     "data": {
      "image/png": "[encoded data removed]",
      "text/plain": [
       "<Figure size 576x576 with 2 Axes>"
      ]
     },
     "metadata": {
      "needs_background": "light"
     },
     "output_type": "display_data"
    },
    {
     "name": "stdout",
     "output_type": "stream",
     "text": [
      "Accuracy of the model on Original test set is:  99.79 %\n",
      "Recall of the model on Original test set is:  85.71 %\n"
     ]
    }
   ],
   "source": [
    "y_p_xo = model.predict(xo_test)\n",
    "cf_mat(yo_test,y_p_xo,\"Original test set\")"
   ]
  },
  {
   "cell_type": "code",
   "execution_count": 595,
   "id": "8a07edba-443e-4d97-90d9-34d661662c53",
   "metadata": {},
   "outputs": [
    {
     "data": {
      "image/png": "[encoded data removed]",
      "text/plain": [
       "<Figure size 576x576 with 2 Axes>"
      ]
     },
     "metadata": {
      "needs_background": "light"
     },
     "output_type": "display_data"
    },
    {
     "name": "stdout",
     "output_type": "stream",
     "text": [
      "Accuracy of the model on Resampled Test set is:  99.93 %\n",
      "Recall of the model on Resampled Test set is:  100.00 %\n"
     ]
    }
   ],
   "source": [
    "y_p_test = model.predict((x_test))\n",
    "cf_mat(y_test,y_p_test,\"Resampled Test set\")"
   ]
  },
  {
   "cell_type": "code",
   "execution_count": 596,
   "id": "188aad71-ec2e-40fe-8a22-c53dfb6abdc9",
   "metadata": {},
   "outputs": [
    {
     "data": {
      "image/png": "[encoded data removed]",
      "text/plain": [
       "<Figure size 576x576 with 2 Axes>"
      ]
     },
     "metadata": {
      "needs_background": "light"
     },
     "output_type": "display_data"
    },
    {
     "name": "stdout",
     "output_type": "stream",
     "text": [
      "Accuracy of the model on Resampled Dataset is:  99.91 %\n",
      "Recall of the model on Resampled Dataset is:  100.00 %\n"
     ]
    }
   ],
   "source": [
    "y_r_p = model.predict((X_r))\n",
    "cf_mat(Y_r,y_r_p,\"Resampled Dataset\")"
   ]
  },
  {
   "cell_type": "code",
   "execution_count": 597,
   "id": "e88a0638-714b-430b-a9a7-f258f11ff497",
   "metadata": {},
   "outputs": [
    {
     "data": {
      "image/png": "[encoded data removed]",
      "text/plain": [
       "<Figure size 576x576 with 2 Axes>"
      ]
     },
     "metadata": {
      "needs_background": "light"
     },
     "output_type": "display_data"
    },
    {
     "name": "stdout",
     "output_type": "stream",
     "text": [
      "Accuracy of the model on Original dataset is:  99.81 %\n",
      "Recall of the model on Original dataset is:  95.73 %\n"
     ]
    }
   ],
   "source": [
    "y_da = model.predict(sc.transform(X))\n",
    "cf_mat(Y,y_da,\"Original dataset\")"
   ]
  },
  {
   "cell_type": "code",
   "execution_count": null,
   "id": "a51e17fb-042b-4d43-9a3f-bd5f50f5e4ec",
   "metadata": {},
   "outputs": [],
   "source": [
    "# Overall we can select either random forest or deep learning model based on our needs\n",
    "# On resampled test set, random forest works best\n",
    "# On the test set from the original dataset, deep learning model can detect more fradulent cases but creates much more false positives"
   ]
  }
 ],
 "metadata": {
  "kernelspec": {
   "display_name": "Python 3 (ipykernel)",
   "language": "python",
   "name": "python3"
  },
  "language_info": {
   "codemirror_mode": {
    "name": "ipython",
    "version": 3
   },
   "file_extension": ".py",
   "mimetype": "text/x-python",
   "name": "python",
   "nbconvert_exporter": "python",
   "pygments_lexer": "ipython3",
   "version": "3.10.2"
  }
 },
 "nbformat": 4,
 "nbformat_minor": 5
}
